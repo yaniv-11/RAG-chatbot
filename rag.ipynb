{
 "cells": [
  {
   "cell_type": "markdown",
   "id": "37547c54",
   "metadata": {},
   "source": [
    "    LOADIING DATA"
   ]
  },
  {
   "cell_type": "code",
   "execution_count": 23,
   "id": "5f84cd94",
   "metadata": {},
   "outputs": [
    {
     "name": "stdout",
     "output_type": "stream",
     "text": [
      "3\n",
      "Health Data Analysis and Hypothesis Testing Report\n",
      "1. Introduction\n",
      "This project involves a comprehensive analysis of a health-related dataset containing 100,000 records and 49\n",
      "features. The aim is to investigate the impact of various lifestyle and physiological factors on health status\n",
      "(target variable). The outcome of the project is to derive data-driven insights and present them through\n",
      "statistical tests and visual storytelling using Power BI.\n",
      "2. Data Loading and Initial Overview\n",
      "Loaded a CSV dataset with 100,000 entries and 49 features.\n",
      "Features include physiological parameters (e.g., heart rate, glucose, BMI), lifestyle indicators (e.g., sleep,\n",
      "screen time, alcohol consumption), and the target variable (target) indicating health status (1 = healthy, 0 =\n",
      "unhealthy).\n",
      "3. Data Preprocessing\n",
      "Performed several critical steps to prepare the data for analysis:\n",
      "- Handling Missing Values: Ensured all features had complete data by checking and imputing missing values\n",
      "if needed.\n",
      "- Encoding Categorical Variables: Converted categorical features (like smoking_level, diet_type, etc.) into\n",
      "numerical format using Label Encoding.\n",
      "- Data Scaling: Applied feature scaling using standardization (Z-score normalization) to ensure uniformity\n",
      "across features.\n",
      "- Distribution Analysis: Plotted distributions of individual features to understand skewness, variance, and\n",
      "detect anomalies or outliers.\n",
      "- Feature Importance: Trained a Random Forest model to rank features based on importance scores in\n",
      "predicting the target.\n",
      "- Correlation Analysis: Used heatmaps and correlation matrices to analyze linear relationships between\n",
      "features and the health target.\n",
      "4. Hypothesis Formulation and Statistical Testing\n",
      "{'producer': 'PyFPDF 1.7.2 http://pyfpdf.googlecode.com/', 'creator': 'PyPDF', 'creationdate': 'D:20250727121815', 'source': 'C:\\\\Users\\\\vinays\\\\Downloads\\\\Health_Data_Analysis_Report.pdf', 'total_pages': 3, 'page': 1, 'page_label': '2'}\n"
     ]
    }
   ],
   "source": [
    "from langchain_community.document_loaders import PyPDFLoader\n",
    "\n",
    "loader = PyPDFLoader(r\"C:\\Users\\vinays\\Downloads\\Health_Data_Analysis_Report.pdf\")\n",
    "\n",
    "docs = loader.load()\n",
    "\n",
    "print(len(docs))\n",
    "\n",
    "print(docs[0].page_content)\n",
    "print(docs[1].metadata)"
   ]
  },
  {
   "cell_type": "markdown",
   "id": "ee31ff01",
   "metadata": {},
   "source": [
    "SPLITTING DATA"
   ]
  },
  {
   "cell_type": "code",
   "execution_count": 41,
   "id": "0b721401",
   "metadata": {},
   "outputs": [
    {
     "name": "stdout",
     "output_type": "stream",
     "text": [
      "122\n",
      "page_content='- Work hours had a statistically significant' metadata={'producer': 'PyFPDF 1.7.2 http://pyfpdf.googlecode.com/', 'creator': 'PyPDF', 'creationdate': 'D:20250727121815', 'source': 'C:\\\\Users\\\\vinays\\\\Downloads\\\\Health_Data_Analysis_Report.pdf', 'total_pages': 3, 'page': 1, 'page_label': '2'}\n"
     ]
    }
   ],
   "source": [
    "from langchain.text_splitter import RecursiveCharacterTextSplitter\n",
    "\n",
    "text_splitter = RecursiveCharacterTextSplitter(chunk_size=50, chunk_overlap=25)\n",
    "\n",
    "chunks = text_splitter.split_documents(docs)\n",
    "\n",
    "print(len(chunks))\n",
    "print(chunks[100])"
   ]
  },
  {
   "cell_type": "code",
   "execution_count": 36,
   "id": "2832a3ec",
   "metadata": {},
   "outputs": [
    {
     "data": {
      "text/plain": [
       "'Health Data Analysis and Hypothesis Testing Report'"
      ]
     },
     "execution_count": 36,
     "metadata": {},
     "output_type": "execute_result"
    }
   ],
   "source": [
    "chunks[0].page_content"
   ]
  },
  {
   "cell_type": "code",
   "execution_count": 37,
   "id": "52ee963b",
   "metadata": {},
   "outputs": [
    {
     "name": "stdout",
     "output_type": "stream",
     "text": [
      "Health Data Analysis and Hypothesis Testing Report\n",
      "1. Introduction\n",
      "This project involves a comprehensive analysis of\n",
      "analysis of a health-related dataset containing\n",
      "dataset containing 100,000 records and 49\n",
      "features. The aim is to investigate the impact of\n",
      "the impact of various lifestyle and physiological\n",
      "and physiological factors on health status\n",
      "(target variable). The outcome of the project is\n",
      "of the project is to derive data-driven insights\n",
      "data-driven insights and present them through\n",
      "statistical tests and visual storytelling using\n",
      "storytelling using Power BI.\n",
      "2. Data Loading and Initial Overview\n",
      "Loaded a CSV dataset with 100,000 entries and 49\n",
      "100,000 entries and 49 features.\n",
      "Features include physiological parameters (e.g.,\n",
      "parameters (e.g., heart rate, glucose, BMI),\n",
      "rate, glucose, BMI), lifestyle indicators (e.g.,\n",
      "indicators (e.g., sleep,\n",
      "screen time, alcohol consumption), and the target\n",
      "and the target variable (target) indicating\n",
      "(target) indicating health status (1 = healthy, 0\n",
      "status (1 = healthy, 0 =\n",
      "unhealthy).\n",
      "3. Data Preprocessing\n",
      "Performed several critical steps to prepare the\n",
      "steps to prepare the data for analysis:\n",
      "- Handling Missing Values: Ensured all features\n",
      "Ensured all features had complete data by\n",
      "had complete data by checking and imputing\n",
      "by checking and imputing missing values\n",
      "if needed.\n",
      "- Encoding Categorical Variables: Converted\n",
      "Variables: Converted categorical features (like\n",
      "features (like smoking_level, diet_type, etc.)\n",
      "diet_type, etc.) into\n",
      "numerical format using Label Encoding.\n",
      "- Data Scaling: Applied feature scaling using\n",
      "feature scaling using standardization (Z-score\n",
      "standardization (Z-score normalization) to ensure\n",
      "normalization) to ensure uniformity\n",
      "across features.\n",
      "- Distribution Analysis: Plotted distributions of\n",
      "Plotted distributions of individual features to\n",
      "individual features to understand skewness,\n",
      "to understand skewness, variance, and\n",
      "detect anomalies or outliers.\n",
      "- Feature Importance: Trained a Random Forest\n",
      "Trained a Random Forest model to rank features\n",
      "model to rank features based on importance scores\n",
      "on importance scores in\n",
      "predicting the target.\n",
      "- Correlation Analysis: Used heatmaps and\n",
      "Used heatmaps and correlation matrices to analyze\n",
      "matrices to analyze linear relationships between\n",
      "features and the health target.\n",
      "4. Hypothesis Formulation and Statistical Testing\n",
      "Health Data Analysis and Hypothesis Testing Report\n",
      "Single Feature vs Target\n",
      "Tested individual features against the health\n",
      "against the health target using:\n",
      "- T-Test (for continuous features like sugar\n",
      "features like sugar intake, work hours, daily\n",
      "work hours, daily steps).\n",
      "- Chi-Square Test (for categorical features like\n",
      "features like smoking level).\n",
      "Results:\n",
      "Feature         Test Used     P-value\n",
      "Test Used     P-value    Conclusion\n",
      "sugar_intake    T-Test        0.8997     No\n",
      "0.8997     No significant relation\n",
      "work_hours      T-Test        0.0006\n",
      "T-Test        0.0006     Significant relation\n",
      "Significant relation with health\n",
      "daily_steps     T-Test        0.1263     No\n",
      "0.1263     No significant relation\n",
      "smoking_level   Chi-Square    0.6406     No\n",
      "0.6406     No significant relation\n",
      "5. Multi-Feature vs Target Testing\n",
      "Grouped related lifestyle factors to test their\n",
      "factors to test their joint significance with\n",
      "joint significance with health:\n",
      "- Sleep Hours, Screen Time, Stress Level (using\n",
      "Stress Level (using logistic regression)\n",
      "- Diet Quality & Physical Activity\n",
      "- Substance Use (Alcohol + Smoking)\n",
      "- All Lifestyle Factors Together\n",
      "Used logistic regression models to test overall\n",
      "models to test overall significance of each\n",
      "significance of each group:\n",
      "- Group p-values and model summary showed that\n",
      "summary showed that Sleep, Stress, Diet, and\n",
      "Sleep, Stress, Diet, and Physical Activity are\n",
      "Physical Activity are significant\n",
      "predictors.\n",
      "- Substance use alone did not show a\n",
      "use alone did not show a statistically\n",
      "not show a statistically significant impact in\n",
      "significant impact in isolation.\n",
      "6. Conclusion\n",
      "- Work hours had a statistically significant\n",
      "significant relationship with health.\n",
      "- Sugar intake, smoking, and daily steps\n",
      "smoking, and daily steps individually did not\n",
      "individually did not show significance, possibly\n",
      "significance, possibly due to complex\n",
      "interactions with other variables or insufficient\n",
      "or insufficient sensitivity in the test.\n",
      "- Combined lifestyle factors like sleep quality,\n",
      "like sleep quality, stress level, and physical\n",
      "level, and physical activity showed stronger\n",
      "activity showed stronger predictive\n",
      "Health Data Analysis and Hypothesis Testing Report\n",
      "power.\n",
      "- Feature importance scores and correlation\n",
      "scores and correlation heatmaps revealed\n",
      "heatmaps revealed additional insights beyond\n",
      "insights beyond statistical\n",
      "significance, supporting the value of including\n",
      "the value of including model-driven analysis in\n",
      "model-driven analysis in addition to hypothesis\n",
      "addition to hypothesis testing.\n"
     ]
    }
   ],
   "source": [
    "for i in chunks:\n",
    "    print(i.page_content)"
   ]
  },
  {
   "cell_type": "code",
   "execution_count": 38,
   "id": "9c94e97d",
   "metadata": {},
   "outputs": [
    {
     "name": "stdout",
     "output_type": "stream",
     "text": [
      "122\n",
      "10\n"
     ]
    }
   ],
   "source": [
    "from langchain_huggingface import HuggingFaceEndpointEmbeddings\n",
    "from dotenv import load_dotenv\n",
    "import os\n",
    "\n",
    "load_dotenv()\n",
    "\n",
    "embeddings = HuggingFaceEndpointEmbeddings(\n",
    "    model=\"sentence-transformers/all-MiniLM-L6-v2\",  \n",
    "    huggingfacehub_api_token=os.getenv(\"HUGGINGFACE_Api_KEY\")\n",
    ")\n",
    "\n",
    "texts=[doc.page_content for doc in chunks]\n",
    "\n",
    "vectors=embeddings.embed_documents(texts)\n",
    "\n",
    "print(len(vectors))\n",
    "\n",
    "print(len(vectors[0][:10]))"
   ]
  },
  {
   "cell_type": "code",
   "execution_count": 39,
   "id": "0ed1bb55",
   "metadata": {},
   "outputs": [
    {
     "name": "stdout",
     "output_type": "stream",
     "text": [
      "\n",
      "Top matches:\n",
      "- addition to hypothesis testing.\n",
      "- 4. Hypothesis Formulation and Statistical Testing\n",
      "- Test Used     P-value    Conclusion\n"
     ]
    }
   ],
   "source": [
    "\n",
    "from langchain_community.vectorstores import FAISS\n",
    "\n",
    "# Build FAISS vector store directly from Documents\n",
    "vector_store = FAISS.from_documents(chunks, embeddings)\n",
    "\n",
    "# Run similarity search\n",
    "results = vector_store.similarity_search(\"Explain hypothesis testing\", k=3)\n",
    "\n",
    "print(\"\\nTop matches:\")\n",
    "for r in results:\n",
    "    print(\"-\", r.page_content)\n"
   ]
  },
  {
   "cell_type": "code",
   "execution_count": 42,
   "id": "28d41c5e",
   "metadata": {},
   "outputs": [],
   "source": [
    "retriever = vector_store.as_retriever(search_type=\"similarity\", search_kwargs={\"k\": 4})"
   ]
  },
  {
   "cell_type": "code",
   "execution_count": 43,
   "id": "7473fca2",
   "metadata": {},
   "outputs": [
    {
     "data": {
      "text/plain": [
       "VectorStoreRetriever(tags=['FAISS', 'HuggingFaceEndpointEmbeddings'], vectorstore=<langchain_community.vectorstores.faiss.FAISS object at 0x0000025BC7593340>, search_kwargs={'k': 4})"
      ]
     },
     "execution_count": 43,
     "metadata": {},
     "output_type": "execute_result"
    }
   ],
   "source": [
    "retriever"
   ]
  },
  {
   "cell_type": "code",
   "execution_count": 44,
   "id": "02456a19",
   "metadata": {},
   "outputs": [
    {
     "data": {
      "text/plain": [
       "[Document(id='8e17f482-9469-48aa-9698-3a5760e9f8ec', metadata={'producer': 'PyFPDF 1.7.2 http://pyfpdf.googlecode.com/', 'creator': 'PyPDF', 'creationdate': 'D:20250727121815', 'source': 'C:\\\\Users\\\\vinays\\\\Downloads\\\\Health_Data_Analysis_Report.pdf', 'total_pages': 3, 'page': 2, 'page_label': '3'}, page_content='addition to hypothesis testing.'),\n",
       " Document(id='a609475c-0e2e-48a7-ab95-2570a09a1163', metadata={'producer': 'PyFPDF 1.7.2 http://pyfpdf.googlecode.com/', 'creator': 'PyPDF', 'creationdate': 'D:20250727121815', 'source': 'C:\\\\Users\\\\vinays\\\\Downloads\\\\Health_Data_Analysis_Report.pdf', 'total_pages': 3, 'page': 1, 'page_label': '2'}, page_content='Tested individual features against the health'),\n",
       " Document(id='04449b0d-2cc9-484b-8124-15742a710ef8', metadata={'producer': 'PyFPDF 1.7.2 http://pyfpdf.googlecode.com/', 'creator': 'PyPDF', 'creationdate': 'D:20250727121815', 'source': 'C:\\\\Users\\\\vinays\\\\Downloads\\\\Health_Data_Analysis_Report.pdf', 'total_pages': 3, 'page': 1, 'page_label': '2'}, page_content='Test Used     P-value    Conclusion'),\n",
       " Document(id='9316933c-86e1-488a-8736-fb3441dc8f6f', metadata={'producer': 'PyFPDF 1.7.2 http://pyfpdf.googlecode.com/', 'creator': 'PyPDF', 'creationdate': 'D:20250727121815', 'source': 'C:\\\\Users\\\\vinays\\\\Downloads\\\\Health_Data_Analysis_Report.pdf', 'total_pages': 3, 'page': 1, 'page_label': '2'}, page_content='Feature         Test Used     P-value')]"
      ]
     },
     "execution_count": 44,
     "metadata": {},
     "output_type": "execute_result"
    }
   ],
   "source": [
    "retriever.invoke('What is testing')"
   ]
  },
  {
   "cell_type": "code",
   "execution_count": 45,
   "id": "3f0d8696",
   "metadata": {},
   "outputs": [],
   "source": [
    "from langchain.chains import RetrievalQA\n",
    "from langchain_huggingface import HuggingFaceEndpoint\n",
    "import os\n",
    "\n",
    "# Load Hugging Face LLM (example: flan-t5-base)\n",
    "llm = HuggingFaceEndpoint(\n",
    "    repo_id=\"google/flan-t5-base\",\n",
    "    huggingfacehub_api_token=os.getenv(\"HUGGINGFACE_API_KEY\")\n",
    ")\n",
    "\n"
   ]
  },
  {
   "cell_type": "code",
   "execution_count": 47,
   "id": "90e3166f",
   "metadata": {},
   "outputs": [],
   "source": [
    "from langchain_core.prompts import PromptTemplate\n",
    "prompt = PromptTemplate(\n",
    "    template=\"\"\"\n",
    "      You are a helpful assistant.\n",
    "      Answer ONLY from the provided transcript context.\n",
    "      If the context is insufficient, just say you don't know.\n",
    "\n",
    "      {context}\n",
    "      Question: {question}\n",
    "    \"\"\",\n",
    "    input_variables = ['context', 'question']\n",
    ")"
   ]
  },
  {
   "cell_type": "code",
   "execution_count": 70,
   "id": "d406d82b",
   "metadata": {},
   "outputs": [],
   "source": [
    "question          = \"how stress imposes on health\"\n",
    "retrieved_docs    = retriever.invoke(question)"
   ]
  },
  {
   "cell_type": "code",
   "execution_count": 71,
   "id": "92bc09c1",
   "metadata": {},
   "outputs": [
    {
     "data": {
      "text/plain": [
       "[Document(id='b9a3c039-94ec-4888-a685-4d9ea716a348', metadata={'producer': 'PyFPDF 1.7.2 http://pyfpdf.googlecode.com/', 'creator': 'PyPDF', 'creationdate': 'D:20250727121815', 'source': 'C:\\\\Users\\\\vinays\\\\Downloads\\\\Health_Data_Analysis_Report.pdf', 'total_pages': 3, 'page': 1, 'page_label': '2'}, page_content='Sleep, Stress, Diet, and Physical Activity are'),\n",
       " Document(id='b4b4544c-d46b-43f3-a018-f1c0d3fc741f', metadata={'producer': 'PyFPDF 1.7.2 http://pyfpdf.googlecode.com/', 'creator': 'PyPDF', 'creationdate': 'D:20250727121815', 'source': 'C:\\\\Users\\\\vinays\\\\Downloads\\\\Health_Data_Analysis_Report.pdf', 'total_pages': 3, 'page': 1, 'page_label': '2'}, page_content='Stress Level (using logistic regression)'),\n",
       " Document(id='f63ee567-f0db-4681-9e49-b265fae753e0', metadata={'producer': 'PyFPDF 1.7.2 http://pyfpdf.googlecode.com/', 'creator': 'PyPDF', 'creationdate': 'D:20250727121815', 'source': 'C:\\\\Users\\\\vinays\\\\Downloads\\\\Health_Data_Analysis_Report.pdf', 'total_pages': 3, 'page': 0, 'page_label': '1'}, page_content='and physiological factors on health status'),\n",
       " Document(id='1c049d78-ed7e-4e4c-a2e2-d41acfc3db8c', metadata={'producer': 'PyFPDF 1.7.2 http://pyfpdf.googlecode.com/', 'creator': 'PyPDF', 'creationdate': 'D:20250727121815', 'source': 'C:\\\\Users\\\\vinays\\\\Downloads\\\\Health_Data_Analysis_Report.pdf', 'total_pages': 3, 'page': 1, 'page_label': '2'}, page_content='like sleep quality, stress level, and physical')]"
      ]
     },
     "execution_count": 71,
     "metadata": {},
     "output_type": "execute_result"
    }
   ],
   "source": [
    "retrieved_docs"
   ]
  },
  {
   "cell_type": "code",
   "execution_count": 72,
   "id": "c90ff4a6",
   "metadata": {},
   "outputs": [
    {
     "data": {
      "text/plain": [
       "'Sleep, Stress, Diet, and Physical Activity are\\n\\nStress Level (using logistic regression)\\n\\nand physiological factors on health status\\n\\nlike sleep quality, stress level, and physical'"
      ]
     },
     "execution_count": 72,
     "metadata": {},
     "output_type": "execute_result"
    }
   ],
   "source": [
    "context_text = \"\\n\\n\".join(doc.page_content for doc in retrieved_docs)\n",
    "context_text"
   ]
  },
  {
   "cell_type": "code",
   "execution_count": 73,
   "id": "05623251",
   "metadata": {},
   "outputs": [],
   "source": [
    "final_prompt = prompt.invoke({\"context\": context_text, \"question\": question})"
   ]
  },
  {
   "cell_type": "code",
   "execution_count": 95,
   "id": "2405cd1c",
   "metadata": {},
   "outputs": [
    {
     "data": {
      "text/plain": [
       "StringPromptValue(text=\"\\n      You are a helpful assistant.\\n      Answer ONLY from the provided transcript context.\\n      If the context is insufficient, just say you don't know.\\n\\n      Sleep, Stress, Diet, and Physical Activity are\\n\\nStress Level (using logistic regression)\\n\\nand physiological factors on health status\\n\\nlike sleep quality, stress level, and physical\\n      Question: how stress imposes on health\\n    \")"
      ]
     },
     "execution_count": 95,
     "metadata": {},
     "output_type": "execute_result"
    }
   ],
   "source": [
    "final_prompt"
   ]
  },
  {
   "cell_type": "code",
   "execution_count": 121,
   "id": "853d00a5",
   "metadata": {},
   "outputs": [
    {
     "name": "stdout",
     "output_type": "stream",
     "text": [
      "Based on the provided transcript, the context is insufficient to explain how stress imposes on health. It only mentions \"stress level\" as a factor alongside sleep and diet, and refers to physiological factors affecting health status, but does not elaborate on the specific mechanisms or impacts of stress.\n"
     ]
    }
   ],
   "source": [
    "from langchain_huggingface import ChatHuggingFace,HuggingFaceEndpoint\n",
    "import os\n",
    "from dotenv import load_dotenv\n",
    "\n",
    "load_dotenv()\n",
    "\n",
    "llm=HuggingFaceEndpoint(\n",
    "    repo_id=\"deepseek-ai/DeepSeek-V3.1-Terminus\",\n",
    "    task=\"text-generation\",\n",
    "    \n",
    "    \n",
    ")\n",
    "model=ChatHuggingFace(llm=llm)\n",
    "\n",
    "res=model.invoke(final_prompt)\n",
    "\n",
    "print(res.content)\n"
   ]
  },
  {
   "cell_type": "code",
   "execution_count": null,
   "id": "a0a1643c",
   "metadata": {},
   "outputs": [],
   "source": []
  },
  {
   "cell_type": "code",
   "execution_count": null,
   "id": "d3ed08b9",
   "metadata": {},
   "outputs": [],
   "source": []
  },
  {
   "cell_type": "code",
   "execution_count": null,
   "id": "856280d8",
   "metadata": {},
   "outputs": [],
   "source": []
  },
  {
   "cell_type": "code",
   "execution_count": 97,
   "id": "5d0fbe6c",
   "metadata": {},
   "outputs": [],
   "source": [
    "from langchain_core.runnables import RunnableParallel, RunnablePassthrough, RunnableLambda\n",
    "from langchain_core.output_parsers import StrOutputParser"
   ]
  },
  {
   "cell_type": "code",
   "execution_count": 98,
   "id": "10bc8431",
   "metadata": {},
   "outputs": [],
   "source": [
    "def format_docs(retrieved_docs):\n",
    "  context_text = \"\\n\\n\".join(doc.page_content for doc in retrieved_docs)\n",
    "  return context_text"
   ]
  },
  {
   "cell_type": "code",
   "execution_count": 99,
   "id": "8df69b35",
   "metadata": {},
   "outputs": [],
   "source": [
    "parallel_chain = RunnableParallel({\n",
    "    'context': retriever | RunnableLambda(format_docs),\n",
    "    'question': RunnablePassthrough()\n",
    "})"
   ]
  },
  {
   "cell_type": "code",
   "execution_count": 113,
   "id": "65a19555",
   "metadata": {},
   "outputs": [
    {
     "data": {
      "text/plain": [
       "{'context': 'Stress Level (using logistic regression)\\n\\nSleep, Stress, Diet, and Physical Activity are\\n\\nsummary showed that Sleep, Stress, Diet, and\\n\\n- Sleep Hours, Screen Time, Stress Level (using',\n",
       " 'question': 'stress'}"
      ]
     },
     "execution_count": 113,
     "metadata": {},
     "output_type": "execute_result"
    }
   ],
   "source": [
    "parallel_chain.invoke('stress')"
   ]
  },
  {
   "cell_type": "code",
   "execution_count": 114,
   "id": "676ecc1f",
   "metadata": {},
   "outputs": [],
   "source": [
    "parser = StrOutputParser()"
   ]
  },
  {
   "cell_type": "code",
   "execution_count": 118,
   "id": "98f62384",
   "metadata": {},
   "outputs": [],
   "source": [
    "\n",
    "main_chain = parallel_chain | prompt | model | parser"
   ]
  },
  {
   "cell_type": "code",
   "execution_count": 119,
   "id": "64c866d9",
   "metadata": {},
   "outputs": [
    {
     "data": {
      "text/plain": [
       "'Based on the provided context, the term \"Stress Level\" is mentioned in relation to being measured using logistic regression. The context also groups it with other factors: Sleep, Diet, and Physical Activity.\\n\\nNo further details about what \"stress\" specifically refers to are available in the transcript.'"
      ]
     },
     "execution_count": 119,
     "metadata": {},
     "output_type": "execute_result"
    }
   ],
   "source": [
    "main_chain.invoke(\"stress\")"
   ]
  },
  {
   "cell_type": "code",
   "execution_count": null,
   "id": "01a241db",
   "metadata": {},
   "outputs": [],
   "source": []
  },
  {
   "cell_type": "code",
   "execution_count": null,
   "id": "f723da38",
   "metadata": {},
   "outputs": [],
   "source": []
  },
  {
   "cell_type": "code",
   "execution_count": null,
   "id": "b05607cc",
   "metadata": {},
   "outputs": [],
   "source": []
  }
 ],
 "metadata": {
  "kernelspec": {
   "display_name": "Python (tf_env)",
   "language": "python",
   "name": "tf_env"
  },
  "language_info": {
   "codemirror_mode": {
    "name": "ipython",
    "version": 3
   },
   "file_extension": ".py",
   "mimetype": "text/x-python",
   "name": "python",
   "nbconvert_exporter": "python",
   "pygments_lexer": "ipython3",
   "version": "3.10.16"
  }
 },
 "nbformat": 4,
 "nbformat_minor": 5
}
